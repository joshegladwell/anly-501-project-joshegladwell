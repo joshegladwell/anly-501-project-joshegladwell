{
 "cells": [
  {
   "cell_type": "code",
   "execution_count": 25,
   "metadata": {},
   "outputs": [],
   "source": [
    "# Import libraries\n",
    "import pandas as pd\n",
    "import numpy as np\n",
    "import matplotlib.pyplot as plt\n",
    "import seaborn as sns"
   ]
  },
  {
   "cell_type": "code",
   "execution_count": 3,
   "metadata": {},
   "outputs": [],
   "source": [
    "# Read in data\n",
    "incidents_SS = pd.read_csv('../../data/02-clean-data/SSDB/incident.csv')\n",
    "incidents_MS = pd.read_csv(\"../../data/02-clean-data/MSDB/school_shooters.csv\")"
   ]
  },
  {
   "cell_type": "code",
   "execution_count": 4,
   "metadata": {},
   "outputs": [],
   "source": [
    "# Plot locations on map"
   ]
  },
  {
   "cell_type": "code",
   "execution_count": 12,
   "metadata": {},
   "outputs": [],
   "source": [
    "# Plot shootings by year"
   ]
  },
  {
   "cell_type": "code",
   "execution_count": 29,
   "metadata": {},
   "outputs": [
    {
     "data": {
      "text/plain": [
       "<AxesSubplot:xlabel='School_Level', ylabel='Count'>"
      ]
     },
     "execution_count": 29,
     "metadata": {},
     "output_type": "execute_result"
    },
    {
     "data": {
      "image/png": "[encoded data removed]",
      "text/plain": [
       "<Figure size 1600x900 with 1 Axes>"
      ]
     },
     "metadata": {},
     "output_type": "display_data"
    }
   ],
   "source": [
    "# Plot school level\n",
    "sns.histplot(incidents_SS['School_Level'])"
   ]
  },
  {
   "cell_type": "code",
   "execution_count": 6,
   "metadata": {},
   "outputs": [
    {
     "data": {
      "text/plain": [
       "Index(['Incident_ID', 'Sources', 'Number_News', 'Media_Attention',\n",
       "       'Reliability', 'Date', 'Quarter', 'School', 'City', 'State',\n",
       "       'School_Level', 'Location', 'Location_Type', 'During_School',\n",
       "       'Time_Period', 'First_Shot', 'Summary', 'Narrative', 'Situation',\n",
       "       'Targets', 'Accomplice', 'Hostages', 'Barricade', 'Officer_Involved',\n",
       "       'Bullied', 'Domestic_Violence', 'Gang_Related', 'Preplanned',\n",
       "       'Shots_Fired', 'Active_Shooter_FBI'],\n",
       "      dtype='object')"
      ]
     },
     "execution_count": 6,
     "metadata": {},
     "output_type": "execute_result"
    }
   ],
   "source": [
    "incidents_SS.columns"
   ]
  },
  {
   "cell_type": "code",
   "execution_count": 9,
   "metadata": {},
   "outputs": [
    {
     "data": {
      "text/html": [
       "<div>\n",
       "<style scoped>\n",
       "    .dataframe tbody tr th:only-of-type {\n",
       "        vertical-align: middle;\n",
       "    }\n",
       "\n",
       "    .dataframe tbody tr th {\n",
       "        vertical-align: top;\n",
       "    }\n",
       "\n",
       "    .dataframe thead th {\n",
       "        text-align: right;\n",
       "    }\n",
       "</style>\n",
       "<table border=\"1\" class=\"dataframe\">\n",
       "  <thead>\n",
       "    <tr style=\"text-align: right;\">\n",
       "      <th></th>\n",
       "      <th>Incident_ID</th>\n",
       "      <th>Sources</th>\n",
       "      <th>Number_News</th>\n",
       "      <th>Media_Attention</th>\n",
       "      <th>Reliability</th>\n",
       "      <th>Date</th>\n",
       "      <th>Quarter</th>\n",
       "      <th>School</th>\n",
       "      <th>City</th>\n",
       "      <th>State</th>\n",
       "      <th>...</th>\n",
       "      <th>Accomplice</th>\n",
       "      <th>Hostages</th>\n",
       "      <th>Barricade</th>\n",
       "      <th>Officer_Involved</th>\n",
       "      <th>Bullied</th>\n",
       "      <th>Domestic_Violence</th>\n",
       "      <th>Gang_Related</th>\n",
       "      <th>Preplanned</th>\n",
       "      <th>Shots_Fired</th>\n",
       "      <th>Active_Shooter_FBI</th>\n",
       "    </tr>\n",
       "  </thead>\n",
       "  <tbody>\n",
       "    <tr>\n",
       "      <th>0</th>\n",
       "      <td>20220620ILGRC</td>\n",
       "      <td>https://www.cbsnews.com/chicago/news/woman-and...</td>\n",
       "      <td>50</td>\n",
       "      <td>National</td>\n",
       "      <td>4</td>\n",
       "      <td>2022-06-20</td>\n",
       "      <td>Summer</td>\n",
       "      <td>Gresham School of Excellence</td>\n",
       "      <td>Chicago</td>\n",
       "      <td>IL</td>\n",
       "      <td>...</td>\n",
       "      <td>No</td>\n",
       "      <td>No</td>\n",
       "      <td>No</td>\n",
       "      <td>No</td>\n",
       "      <td>No</td>\n",
       "      <td>No</td>\n",
       "      <td>NaN</td>\n",
       "      <td>No</td>\n",
       "      <td>100</td>\n",
       "      <td>No</td>\n",
       "    </tr>\n",
       "    <tr>\n",
       "      <th>1</th>\n",
       "      <td>20220613WAMAE</td>\n",
       "      <td>https://www.q13fox.com/news/deputies-arrest-15...</td>\n",
       "      <td>5</td>\n",
       "      <td>Local</td>\n",
       "      <td>4</td>\n",
       "      <td>2022-06-13</td>\n",
       "      <td>Summer</td>\n",
       "      <td>Mariner High School</td>\n",
       "      <td>Everett</td>\n",
       "      <td>WA</td>\n",
       "      <td>...</td>\n",
       "      <td>No</td>\n",
       "      <td>No</td>\n",
       "      <td>No</td>\n",
       "      <td>No</td>\n",
       "      <td>No</td>\n",
       "      <td>No</td>\n",
       "      <td>NaN</td>\n",
       "      <td>No</td>\n",
       "      <td>99</td>\n",
       "      <td>No</td>\n",
       "    </tr>\n",
       "    <tr>\n",
       "      <th>2</th>\n",
       "      <td>20220610ALBYB</td>\n",
       "      <td>https://www.actionnews5.com/2022/06/10/student...</td>\n",
       "      <td>3</td>\n",
       "      <td>Local</td>\n",
       "      <td>4</td>\n",
       "      <td>2022-06-10</td>\n",
       "      <td>Summer</td>\n",
       "      <td>Byhalia High School</td>\n",
       "      <td>Byhalia</td>\n",
       "      <td>MS</td>\n",
       "      <td>...</td>\n",
       "      <td>NaN</td>\n",
       "      <td>No</td>\n",
       "      <td>No</td>\n",
       "      <td>No</td>\n",
       "      <td>No</td>\n",
       "      <td>No</td>\n",
       "      <td>NaN</td>\n",
       "      <td>No</td>\n",
       "      <td>1</td>\n",
       "      <td>No</td>\n",
       "    </tr>\n",
       "    <tr>\n",
       "      <th>3</th>\n",
       "      <td>20220609ALWAG</td>\n",
       "      <td>https://www.live5news.com/2022/06/09/potential...</td>\n",
       "      <td>100</td>\n",
       "      <td>National</td>\n",
       "      <td>4</td>\n",
       "      <td>2022-06-09</td>\n",
       "      <td>Summer</td>\n",
       "      <td>Walnut Park Elementary School</td>\n",
       "      <td>Gadsden</td>\n",
       "      <td>AL</td>\n",
       "      <td>...</td>\n",
       "      <td>NaN</td>\n",
       "      <td>NaN</td>\n",
       "      <td>NaN</td>\n",
       "      <td>NaN</td>\n",
       "      <td>NaN</td>\n",
       "      <td>NaN</td>\n",
       "      <td>NaN</td>\n",
       "      <td>NaN</td>\n",
       "      <td>NaN</td>\n",
       "      <td>No</td>\n",
       "    </tr>\n",
       "    <tr>\n",
       "      <th>4</th>\n",
       "      <td>20220608ARLIL</td>\n",
       "      <td>https://www.kark.com/crime/lrpd-school-bus-hit...</td>\n",
       "      <td>5</td>\n",
       "      <td>National</td>\n",
       "      <td>4</td>\n",
       "      <td>2022-06-08</td>\n",
       "      <td>Summer</td>\n",
       "      <td>Little Rock School District Bus</td>\n",
       "      <td>Little Rock</td>\n",
       "      <td>AR</td>\n",
       "      <td>...</td>\n",
       "      <td>NaN</td>\n",
       "      <td>No</td>\n",
       "      <td>No</td>\n",
       "      <td>No</td>\n",
       "      <td>No</td>\n",
       "      <td>No</td>\n",
       "      <td>NaN</td>\n",
       "      <td>No</td>\n",
       "      <td>99</td>\n",
       "      <td>No</td>\n",
       "    </tr>\n",
       "  </tbody>\n",
       "</table>\n",
       "<p>5 rows × 30 columns</p>\n",
       "</div>"
      ],
      "text/plain": [
       "     Incident_ID                                            Sources  \\\n",
       "0  20220620ILGRC  https://www.cbsnews.com/chicago/news/woman-and...   \n",
       "1  20220613WAMAE  https://www.q13fox.com/news/deputies-arrest-15...   \n",
       "2  20220610ALBYB  https://www.actionnews5.com/2022/06/10/student...   \n",
       "3  20220609ALWAG  https://www.live5news.com/2022/06/09/potential...   \n",
       "4  20220608ARLIL  https://www.kark.com/crime/lrpd-school-bus-hit...   \n",
       "\n",
       "  Number_News Media_Attention  Reliability        Date Quarter  \\\n",
       "0          50        National            4  2022-06-20  Summer   \n",
       "1           5           Local            4  2022-06-13  Summer   \n",
       "2           3           Local            4  2022-06-10  Summer   \n",
       "3         100        National            4  2022-06-09  Summer   \n",
       "4           5        National            4  2022-06-08  Summer   \n",
       "\n",
       "                            School         City State  ... Accomplice  \\\n",
       "0     Gresham School of Excellence      Chicago    IL  ...         No   \n",
       "1              Mariner High School      Everett    WA  ...         No   \n",
       "2              Byhalia High School      Byhalia    MS  ...        NaN   \n",
       "3    Walnut Park Elementary School      Gadsden    AL  ...        NaN   \n",
       "4  Little Rock School District Bus  Little Rock    AR  ...        NaN   \n",
       "\n",
       "  Hostages Barricade Officer_Involved Bullied Domestic_Violence Gang_Related  \\\n",
       "0       No        No               No      No                No          NaN   \n",
       "1       No        No               No      No                No          NaN   \n",
       "2       No        No               No      No                No          NaN   \n",
       "3      NaN       NaN              NaN     NaN               NaN          NaN   \n",
       "4       No        No               No      No                No          NaN   \n",
       "\n",
       "  Preplanned Shots_Fired Active_Shooter_FBI  \n",
       "0         No         100                 No  \n",
       "1         No          99                 No  \n",
       "2         No           1                 No  \n",
       "3        NaN         NaN                 No  \n",
       "4         No          99                 No  \n",
       "\n",
       "[5 rows x 30 columns]"
      ]
     },
     "execution_count": 9,
     "metadata": {},
     "output_type": "execute_result"
    }
   ],
   "source": [
    "incidents_SS.head()"
   ]
  },
  {
   "cell_type": "code",
   "execution_count": 23,
   "metadata": {},
   "outputs": [],
   "source": [
    "incidents_SS[['Year', 'Month', 'Day']] = incidents_SS['Date'].str.split('-', expand=True)"
   ]
  },
  {
   "cell_type": "code",
   "execution_count": 28,
   "metadata": {},
   "outputs": [],
   "source": [
    "plt.rcParams[\"figure.figsize\"] = [16,9]\n",
    "\n",
    "# sns.histplot(incidents_SS['Date'])"
   ]
  }
 ],
 "metadata": {
  "kernelspec": {
   "display_name": "Python 3.10.4 ('anly501')",
   "language": "python",
   "name": "python3"
  },
  "language_info": {
   "codemirror_mode": {
    "name": "ipython",
    "version": 3
   },
   "file_extension": ".py",
   "mimetype": "text/x-python",
   "name": "python",
   "nbconvert_exporter": "python",
   "pygments_lexer": "ipython3",
   "version": "3.10.4"
  },
  "orig_nbformat": 4,
  "vscode": {
   "interpreter": {
    "hash": "2df872c4a1806b14b9cbf083c08c99d2077b5ff2992734c586bc376c177358b7"
   }
  }
 },
 "nbformat": 4,
 "nbformat_minor": 2
}
